{
 "cells": [
  {
   "cell_type": "code",
   "execution_count": null,
   "metadata": {},
   "outputs": [],
   "source": [
    "i=0\n",
    "for k in samples.keys():\n",
    "    if k==\"true\":\n",
    "        continue\n",
    "    fake=samples[k]\n",
    "    fig,ax=plt.subplots(1,3,figsize=plot.fig_size3)\n",
    "\n",
    "    for i in range(3):\n",
    "        true=samples[\"true\"].reshape(-1,30,3).clone()\n",
    "\n",
    "        m_up=float(k.split(\"=\")[-1].split(\"$\")[0])+0.02\n",
    "        true=true[mass(true[:,:,:])<m_up]\n",
    "        m_down=float(k.split(\"=\")[-1].split(\"$\")[0])-0.02\n",
    "        true=true[mass(true[:,:,:])>m_down]\n",
    "\n",
    "        _,b,_=ax[i].hist(true.reshape(-1,3)[:,i].numpy(),bins=30,alpha=0.3,label=\"Ground Truth ${:.2f}< m^{}<{:.2f}$\".format(m_down,\"{rel}\",m_up),color=plot.cmap[1],density=1)\n",
    "        ax[i].set_ylabel(\"Counts (Normalised)\")\n",
    "        # ax2 =ax[i].twinx()\n",
    "        ax[i].ticklabel_format(axis=\"y\", style=\"scientific\", scilimits=(-3, 3), useMathText=True)\n",
    "        # ax2.ticklabel_format(axis=\"y\", style=\"scientific\", scilimits=(-3, 3), useMathText=True)\n",
    "        ax[i].hist(fake.reshape(-1,3)[:,i].numpy(),bins=b,alpha=1,label=\"Generated\",histtype=\"step\",lw=4,density=1)\n",
    "        # ax2.set_ylabel(\"Counts Generated\")\n",
    "        handles = [mpatches.Patch(color=sns.color_palette()[z], label=label)  for z, label in enumerate([\"Ground Truth ${:.2f}< m^{}<{:.2f}$\".format(m_down,\"{rel}\",m_up),\"Generated \"+k])]\n",
    "        ax[-1].legend(handles=handles, fontsize=15,loc=\"upper right\")\n",
    "        ax[i].set_xlabel([\"$\\eta^{rel}$\",\"$\\phi^{rel}$\",\"$p_T^{rel}$\"][i])\n",
    "    # plt.suptitle(\"Particle Feature Distribution for Different Mass Conditionings\", fontsize=28, fontweight=\"bold\")\n",
    "    plt.tight_layout()\n",
    "    plt.savefig(\"plots/feature_mass_conditioning_{}.pdf\".format(k.split(\"=\")[-1].split(\"$\")[0]),format=\"pdf\")\n",
    "    plt.show()"
   ]
  }
 ],
 "metadata": {
  "language_info": {
   "name": "python"
  }
 },
 "nbformat": 4,
 "nbformat_minor": 2
}
